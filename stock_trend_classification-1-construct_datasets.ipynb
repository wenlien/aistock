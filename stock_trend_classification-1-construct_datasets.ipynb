{
 "cells": [
  {
   "cell_type": "markdown",
   "metadata": {},
   "source": [
    "# Stock trend classification (1/2): construct datasets\n",
    "\n",
    "Ref:\n",
    "https://www.youtube.com/watch?v=GP-are6sZoE"
   ]
  },
  {
   "cell_type": "markdown",
   "metadata": {},
   "source": [
    "### Install libraries"
   ]
  },
  {
   "cell_type": "code",
   "execution_count": 24,
   "metadata": {},
   "outputs": [
    {
     "name": "stderr",
     "output_type": "stream",
     "text": [
      "7655.30s - pydevd: Sending message related to process being replaced timed-out after 5 seconds\n"
     ]
    },
    {
     "name": "stdout",
     "output_type": "stream",
     "text": [
      "Requirement already satisfied: yfinance in /Users/weilh/Library/Caches/pypoetry/virtualenvs/aistock--dymrmeb-py3.11/lib/python3.11/site-packages (0.2.38)\n",
      "Requirement already satisfied: pandas>=1.3.0 in /Users/weilh/Library/Caches/pypoetry/virtualenvs/aistock--dymrmeb-py3.11/lib/python3.11/site-packages (from yfinance) (2.2.2)\n",
      "Requirement already satisfied: numpy>=1.16.5 in /Users/weilh/Library/Caches/pypoetry/virtualenvs/aistock--dymrmeb-py3.11/lib/python3.11/site-packages (from yfinance) (1.26.4)\n",
      "Requirement already satisfied: requests>=2.31 in /Users/weilh/Library/Caches/pypoetry/virtualenvs/aistock--dymrmeb-py3.11/lib/python3.11/site-packages (from yfinance) (2.31.0)\n",
      "Requirement already satisfied: multitasking>=0.0.7 in /Users/weilh/Library/Caches/pypoetry/virtualenvs/aistock--dymrmeb-py3.11/lib/python3.11/site-packages (from yfinance) (0.0.11)\n",
      "Requirement already satisfied: lxml>=4.9.1 in /Users/weilh/Library/Caches/pypoetry/virtualenvs/aistock--dymrmeb-py3.11/lib/python3.11/site-packages (from yfinance) (5.2.1)\n",
      "Requirement already satisfied: appdirs>=1.4.4 in /Users/weilh/Library/Caches/pypoetry/virtualenvs/aistock--dymrmeb-py3.11/lib/python3.11/site-packages (from yfinance) (1.4.4)\n",
      "Requirement already satisfied: pytz>=2022.5 in /Users/weilh/Library/Caches/pypoetry/virtualenvs/aistock--dymrmeb-py3.11/lib/python3.11/site-packages (from yfinance) (2024.1)\n",
      "Requirement already satisfied: frozendict>=2.3.4 in /Users/weilh/Library/Caches/pypoetry/virtualenvs/aistock--dymrmeb-py3.11/lib/python3.11/site-packages (from yfinance) (2.4.2)\n",
      "Requirement already satisfied: peewee>=3.16.2 in /Users/weilh/Library/Caches/pypoetry/virtualenvs/aistock--dymrmeb-py3.11/lib/python3.11/site-packages (from yfinance) (3.17.3)\n",
      "Requirement already satisfied: beautifulsoup4>=4.11.1 in /Users/weilh/Library/Caches/pypoetry/virtualenvs/aistock--dymrmeb-py3.11/lib/python3.11/site-packages (from yfinance) (4.12.3)\n",
      "Requirement already satisfied: html5lib>=1.1 in /Users/weilh/Library/Caches/pypoetry/virtualenvs/aistock--dymrmeb-py3.11/lib/python3.11/site-packages (from yfinance) (1.1)\n",
      "Requirement already satisfied: soupsieve>1.2 in /Users/weilh/Library/Caches/pypoetry/virtualenvs/aistock--dymrmeb-py3.11/lib/python3.11/site-packages (from beautifulsoup4>=4.11.1->yfinance) (2.5)\n",
      "Requirement already satisfied: six>=1.9 in /Users/weilh/Library/Caches/pypoetry/virtualenvs/aistock--dymrmeb-py3.11/lib/python3.11/site-packages (from html5lib>=1.1->yfinance) (1.16.0)\n",
      "Requirement already satisfied: webencodings in /Users/weilh/Library/Caches/pypoetry/virtualenvs/aistock--dymrmeb-py3.11/lib/python3.11/site-packages (from html5lib>=1.1->yfinance) (0.5.1)\n",
      "Requirement already satisfied: python-dateutil>=2.8.2 in /Users/weilh/Library/Caches/pypoetry/virtualenvs/aistock--dymrmeb-py3.11/lib/python3.11/site-packages (from pandas>=1.3.0->yfinance) (2.9.0.post0)\n",
      "Requirement already satisfied: tzdata>=2022.7 in /Users/weilh/Library/Caches/pypoetry/virtualenvs/aistock--dymrmeb-py3.11/lib/python3.11/site-packages (from pandas>=1.3.0->yfinance) (2024.1)\n",
      "Requirement already satisfied: charset-normalizer<4,>=2 in /Users/weilh/Library/Caches/pypoetry/virtualenvs/aistock--dymrmeb-py3.11/lib/python3.11/site-packages (from requests>=2.31->yfinance) (3.3.2)\n",
      "Requirement already satisfied: idna<4,>=2.5 in /Users/weilh/Library/Caches/pypoetry/virtualenvs/aistock--dymrmeb-py3.11/lib/python3.11/site-packages (from requests>=2.31->yfinance) (3.7)\n",
      "Requirement already satisfied: urllib3<3,>=1.21.1 in /Users/weilh/Library/Caches/pypoetry/virtualenvs/aistock--dymrmeb-py3.11/lib/python3.11/site-packages (from requests>=2.31->yfinance) (2.2.1)\n",
      "Requirement already satisfied: certifi>=2017.4.17 in /Users/weilh/Library/Caches/pypoetry/virtualenvs/aistock--dymrmeb-py3.11/lib/python3.11/site-packages (from requests>=2.31->yfinance) (2024.2.2)\n"
     ]
    }
   ],
   "source": [
    "!pip install yfinance"
   ]
  },
  {
   "cell_type": "markdown",
   "metadata": {},
   "source": [
    "### Download data"
   ]
  },
  {
   "cell_type": "code",
   "execution_count": 25,
   "metadata": {},
   "outputs": [
    {
     "data": {
      "text/html": [
       "<div>\n",
       "<style scoped>\n",
       "    .dataframe tbody tr th:only-of-type {\n",
       "        vertical-align: middle;\n",
       "    }\n",
       "\n",
       "    .dataframe tbody tr th {\n",
       "        vertical-align: top;\n",
       "    }\n",
       "\n",
       "    .dataframe thead th {\n",
       "        text-align: right;\n",
       "    }\n",
       "</style>\n",
       "<table border=\"1\" class=\"dataframe\">\n",
       "  <thead>\n",
       "    <tr style=\"text-align: right;\">\n",
       "      <th></th>\n",
       "      <th>Open</th>\n",
       "      <th>High</th>\n",
       "      <th>Low</th>\n",
       "      <th>Close</th>\n",
       "      <th>Volume</th>\n",
       "      <th>Dividends</th>\n",
       "      <th>Stock Splits</th>\n",
       "    </tr>\n",
       "    <tr>\n",
       "      <th>Date</th>\n",
       "      <th></th>\n",
       "      <th></th>\n",
       "      <th></th>\n",
       "      <th></th>\n",
       "      <th></th>\n",
       "      <th></th>\n",
       "      <th></th>\n",
       "    </tr>\n",
       "  </thead>\n",
       "  <tbody>\n",
       "    <tr>\n",
       "      <th>2014-05-05 00:00:00+08:00</th>\n",
       "      <td>89.078644</td>\n",
       "      <td>89.114288</td>\n",
       "      <td>87.332003</td>\n",
       "      <td>87.795395</td>\n",
       "      <td>20850019</td>\n",
       "      <td>0.0</td>\n",
       "      <td>0.0</td>\n",
       "    </tr>\n",
       "    <tr>\n",
       "      <th>2014-05-07 00:00:00+08:00</th>\n",
       "      <td>86.939896</td>\n",
       "      <td>86.939896</td>\n",
       "      <td>83.767422</td>\n",
       "      <td>84.444695</td>\n",
       "      <td>44192959</td>\n",
       "      <td>0.0</td>\n",
       "      <td>0.0</td>\n",
       "    </tr>\n",
       "    <tr>\n",
       "      <th>2014-05-08 00:00:00+08:00</th>\n",
       "      <td>83.232742</td>\n",
       "      <td>84.587279</td>\n",
       "      <td>82.983216</td>\n",
       "      <td>84.409050</td>\n",
       "      <td>34634898</td>\n",
       "      <td>0.0</td>\n",
       "      <td>0.0</td>\n",
       "    </tr>\n",
       "    <tr>\n",
       "      <th>2014-05-09 00:00:00+08:00</th>\n",
       "      <td>84.302122</td>\n",
       "      <td>86.013118</td>\n",
       "      <td>82.876296</td>\n",
       "      <td>85.335846</td>\n",
       "      <td>23015996</td>\n",
       "      <td>0.0</td>\n",
       "      <td>0.0</td>\n",
       "    </tr>\n",
       "    <tr>\n",
       "      <th>2014-05-12 00:00:00+08:00</th>\n",
       "      <td>85.727930</td>\n",
       "      <td>90.450989</td>\n",
       "      <td>85.549708</td>\n",
       "      <td>89.827187</td>\n",
       "      <td>46815472</td>\n",
       "      <td>0.0</td>\n",
       "      <td>0.0</td>\n",
       "    </tr>\n",
       "    <tr>\n",
       "      <th>...</th>\n",
       "      <td>...</td>\n",
       "      <td>...</td>\n",
       "      <td>...</td>\n",
       "      <td>...</td>\n",
       "      <td>...</td>\n",
       "      <td>...</td>\n",
       "      <td>...</td>\n",
       "    </tr>\n",
       "    <tr>\n",
       "      <th>2024-04-26 00:00:00+08:00</th>\n",
       "      <td>340.000000</td>\n",
       "      <td>351.799988</td>\n",
       "      <td>340.000000</td>\n",
       "      <td>348.399994</td>\n",
       "      <td>29599531</td>\n",
       "      <td>0.0</td>\n",
       "      <td>0.0</td>\n",
       "    </tr>\n",
       "    <tr>\n",
       "      <th>2024-04-29 00:00:00+08:00</th>\n",
       "      <td>348.399994</td>\n",
       "      <td>354.799988</td>\n",
       "      <td>345.200012</td>\n",
       "      <td>347.600006</td>\n",
       "      <td>25416523</td>\n",
       "      <td>0.0</td>\n",
       "      <td>0.0</td>\n",
       "    </tr>\n",
       "    <tr>\n",
       "      <th>2024-04-30 00:00:00+08:00</th>\n",
       "      <td>349.600006</td>\n",
       "      <td>350.799988</td>\n",
       "      <td>344.000000</td>\n",
       "      <td>347.200012</td>\n",
       "      <td>15957023</td>\n",
       "      <td>0.0</td>\n",
       "      <td>0.0</td>\n",
       "    </tr>\n",
       "    <tr>\n",
       "      <th>2024-05-02 00:00:00+08:00</th>\n",
       "      <td>349.000000</td>\n",
       "      <td>361.200012</td>\n",
       "      <td>345.399994</td>\n",
       "      <td>360.399994</td>\n",
       "      <td>22479610</td>\n",
       "      <td>0.0</td>\n",
       "      <td>0.0</td>\n",
       "    </tr>\n",
       "    <tr>\n",
       "      <th>2024-05-03 00:00:00+08:00</th>\n",
       "      <td>371.000000</td>\n",
       "      <td>372.600006</td>\n",
       "      <td>360.600006</td>\n",
       "      <td>364.399994</td>\n",
       "      <td>23592345</td>\n",
       "      <td>0.0</td>\n",
       "      <td>0.0</td>\n",
       "    </tr>\n",
       "  </tbody>\n",
       "</table>\n",
       "<p>2465 rows × 7 columns</p>\n",
       "</div>"
      ],
      "text/plain": [
       "                                 Open        High         Low       Close  \\\n",
       "Date                                                                        \n",
       "2014-05-05 00:00:00+08:00   89.078644   89.114288   87.332003   87.795395   \n",
       "2014-05-07 00:00:00+08:00   86.939896   86.939896   83.767422   84.444695   \n",
       "2014-05-08 00:00:00+08:00   83.232742   84.587279   82.983216   84.409050   \n",
       "2014-05-09 00:00:00+08:00   84.302122   86.013118   82.876296   85.335846   \n",
       "2014-05-12 00:00:00+08:00   85.727930   90.450989   85.549708   89.827187   \n",
       "...                               ...         ...         ...         ...   \n",
       "2024-04-26 00:00:00+08:00  340.000000  351.799988  340.000000  348.399994   \n",
       "2024-04-29 00:00:00+08:00  348.399994  354.799988  345.200012  347.600006   \n",
       "2024-04-30 00:00:00+08:00  349.600006  350.799988  344.000000  347.200012   \n",
       "2024-05-02 00:00:00+08:00  349.000000  361.200012  345.399994  360.399994   \n",
       "2024-05-03 00:00:00+08:00  371.000000  372.600006  360.600006  364.399994   \n",
       "\n",
       "                             Volume  Dividends  Stock Splits  \n",
       "Date                                                          \n",
       "2014-05-05 00:00:00+08:00  20850019        0.0           0.0  \n",
       "2014-05-07 00:00:00+08:00  44192959        0.0           0.0  \n",
       "2014-05-08 00:00:00+08:00  34634898        0.0           0.0  \n",
       "2014-05-09 00:00:00+08:00  23015996        0.0           0.0  \n",
       "2014-05-12 00:00:00+08:00  46815472        0.0           0.0  \n",
       "...                             ...        ...           ...  \n",
       "2024-04-26 00:00:00+08:00  29599531        0.0           0.0  \n",
       "2024-04-29 00:00:00+08:00  25416523        0.0           0.0  \n",
       "2024-04-30 00:00:00+08:00  15957023        0.0           0.0  \n",
       "2024-05-02 00:00:00+08:00  22479610        0.0           0.0  \n",
       "2024-05-03 00:00:00+08:00  23592345        0.0           0.0  \n",
       "\n",
       "[2465 rows x 7 columns]"
      ]
     },
     "execution_count": 25,
     "metadata": {},
     "output_type": "execute_result"
    }
   ],
   "source": [
    "import yfinance as yf\n",
    "\n",
    "SYMBOL = '0700.HK'\n",
    "HISTORY = '10y'\n",
    "\n",
    "all_day_k = yf.Ticker(SYMBOL).history(period=HISTORY, interval='1d')\n",
    "all_day_k"
   ]
  },
  {
   "cell_type": "code",
   "execution_count": 26,
   "metadata": {},
   "outputs": [],
   "source": [
    "# Remove meaningless columns\n",
    "all_day_k = all_day_k.drop(columns=['Dividends', 'Stock Splits'])\n",
    "\n",
    "# Remove latest row because it may be incomplete\n",
    "all_day_k = all_day_k[:-1]"
   ]
  },
  {
   "cell_type": "code",
   "execution_count": 27,
   "metadata": {},
   "outputs": [],
   "source": [
    "import numpy as np\n",
    "import pandas as pd\n",
    "\n",
    "PAST_WIN_LEN = 100\n",
    "CLASSES = ['Bull', 'Bear']\n",
    "LABEL_BULL = CLASSES.index('Bull')\n",
    "LABEL_BEAR = CLASSES.index('Bear')\n",
    "\n",
    "x, y = [], []\n",
    "for today_i in range(len(all_day_k)):\n",
    "    # Get day-K in the past 100-day window and the forward 1-day window\n",
    "    day_k_past = all_day_k[:today_i+1]\n",
    "    day_k_forward = all_day_k[today_i+1:]\n",
    "    if len(day_k_past) < PAST_WIN_LEN or len(day_k_forward) < 1:\n",
    "        continue\n",
    "    day_k_past_win = day_k_past[-PAST_WIN_LEN:]\n",
    "    day_k_forward_win = day_k_forward[:1]\n",
    "\n",
    "    # Find label\n",
    "    today_price = day_k_past_win.iloc[-1]['Close']\n",
    "    tomorrow_price = day_k_forward_win.iloc[0]['Close']\n",
    "    label = LABEL_BULL if tomorrow_price > today_price else LABEL_BEAR\n",
    "\n",
    "    # Store\n",
    "    x.append(day_k_past_win.values)\n",
    "    y.append(label)\n",
    "\n",
    "x, y = np.array(x), np.array(y)"
   ]
  },
  {
   "cell_type": "code",
   "execution_count": 28,
   "metadata": {},
   "outputs": [
    {
     "data": {
      "text/plain": [
       "(2364, 100, 5)"
      ]
     },
     "execution_count": 28,
     "metadata": {},
     "output_type": "execute_result"
    }
   ],
   "source": [
    "x.shape"
   ]
  },
  {
   "cell_type": "code",
   "execution_count": 29,
   "metadata": {},
   "outputs": [
    {
     "data": {
      "text/plain": [
       "array([[[8.90786437e+01, 8.91142881e+01, 8.73320034e+01, 8.77953949e+01,\n",
       "         2.08500190e+07],\n",
       "        [8.69398960e+01, 8.69398960e+01, 8.37674221e+01, 8.44446945e+01,\n",
       "         4.41929590e+07],\n",
       "        [8.32327417e+01, 8.45872792e+01, 8.29832164e+01, 8.44090500e+01,\n",
       "         3.46348980e+07],\n",
       "        ...,\n",
       "        [1.07193641e+02, 1.07818940e+02, 1.05228425e+02, 1.06211037e+02,\n",
       "         2.88115890e+07],\n",
       "        [1.04871110e+02, 1.06121707e+02, 1.04871110e+02, 1.05853722e+02,\n",
       "         1.95386450e+07],\n",
       "        [1.07372301e+02, 1.07461630e+02, 1.05049772e+02, 1.05317757e+02,\n",
       "         2.31755290e+07]],\n",
       "\n",
       "       [[8.69398960e+01, 8.69398960e+01, 8.37674221e+01, 8.44446945e+01,\n",
       "         4.41929590e+07],\n",
       "        [8.32327417e+01, 8.45872792e+01, 8.29832164e+01, 8.44090500e+01,\n",
       "         3.46348980e+07],\n",
       "        [8.43021223e+01, 8.60131185e+01, 8.28762959e+01, 8.53358459e+01,\n",
       "         2.30159960e+07],\n",
       "        ...,\n",
       "        [1.04871110e+02, 1.06121707e+02, 1.04871110e+02, 1.05853722e+02,\n",
       "         1.95386450e+07],\n",
       "        [1.07372301e+02, 1.07461630e+02, 1.05049772e+02, 1.05317757e+02,\n",
       "         2.31755290e+07],\n",
       "        [1.04245826e+02, 1.04424475e+02, 1.03263214e+02, 1.04067169e+02,\n",
       "         3.04848990e+07]],\n",
       "\n",
       "       [[8.32327417e+01, 8.45872792e+01, 8.29832164e+01, 8.44090500e+01,\n",
       "         3.46348980e+07],\n",
       "        [8.43021223e+01, 8.60131185e+01, 8.28762959e+01, 8.53358459e+01,\n",
       "         2.30159960e+07],\n",
       "        [8.57279300e+01, 9.04509887e+01, 8.55497082e+01, 8.98271866e+01,\n",
       "         4.68154720e+07],\n",
       "        ...,\n",
       "        [1.07372301e+02, 1.07461630e+02, 1.05049772e+02, 1.05317757e+02,\n",
       "         2.31755290e+07],\n",
       "        [1.04245826e+02, 1.04424475e+02, 1.03263214e+02, 1.04067169e+02,\n",
       "         3.04848990e+07],\n",
       "        [1.03173871e+02, 1.03888497e+02, 1.00762013e+02, 1.03263199e+02,\n",
       "         3.54041590e+07]],\n",
       "\n",
       "       ...,\n",
       "\n",
       "       [[3.23000000e+02, 3.24000000e+02, 3.13600006e+02, 3.17000000e+02,\n",
       "         1.68567440e+07],\n",
       "        [3.17399994e+02, 3.27000000e+02, 3.17000000e+02, 3.27000000e+02,\n",
       "         3.03080920e+07],\n",
       "        [3.24799988e+02, 3.25799988e+02, 3.19000000e+02, 3.19000000e+02,\n",
       "         1.51496840e+07],\n",
       "        ...,\n",
       "        [3.37799988e+02, 3.45000000e+02, 3.35399994e+02, 3.44200012e+02,\n",
       "         4.14726820e+07],\n",
       "        [3.40200012e+02, 3.46399994e+02, 3.36399994e+02, 3.39399994e+02,\n",
       "         2.77275560e+07],\n",
       "        [3.40000000e+02, 3.51799988e+02, 3.40000000e+02, 3.48399994e+02,\n",
       "         2.95995310e+07]],\n",
       "\n",
       "       [[3.17399994e+02, 3.27000000e+02, 3.17000000e+02, 3.27000000e+02,\n",
       "         3.03080920e+07],\n",
       "        [3.24799988e+02, 3.25799988e+02, 3.19000000e+02, 3.19000000e+02,\n",
       "         1.51496840e+07],\n",
       "        [3.23000000e+02, 3.24200012e+02, 3.15200012e+02, 3.16799988e+02,\n",
       "         1.49072380e+07],\n",
       "        ...,\n",
       "        [3.40200012e+02, 3.46399994e+02, 3.36399994e+02, 3.39399994e+02,\n",
       "         2.77275560e+07],\n",
       "        [3.40000000e+02, 3.51799988e+02, 3.40000000e+02, 3.48399994e+02,\n",
       "         2.95995310e+07],\n",
       "        [3.48399994e+02, 3.54799988e+02, 3.45200012e+02, 3.47600006e+02,\n",
       "         2.54165230e+07]],\n",
       "\n",
       "       [[3.24799988e+02, 3.25799988e+02, 3.19000000e+02, 3.19000000e+02,\n",
       "         1.51496840e+07],\n",
       "        [3.23000000e+02, 3.24200012e+02, 3.15200012e+02, 3.16799988e+02,\n",
       "         1.49072380e+07],\n",
       "        [3.21000000e+02, 3.21000000e+02, 3.05000000e+02, 3.08799988e+02,\n",
       "         2.37300390e+07],\n",
       "        ...,\n",
       "        [3.40000000e+02, 3.51799988e+02, 3.40000000e+02, 3.48399994e+02,\n",
       "         2.95995310e+07],\n",
       "        [3.48399994e+02, 3.54799988e+02, 3.45200012e+02, 3.47600006e+02,\n",
       "         2.54165230e+07],\n",
       "        [3.49600006e+02, 3.50799988e+02, 3.44000000e+02, 3.47200012e+02,\n",
       "         1.59570230e+07]]])"
      ]
     },
     "execution_count": 29,
     "metadata": {},
     "output_type": "execute_result"
    }
   ],
   "source": [
    "x"
   ]
  },
  {
   "cell_type": "code",
   "execution_count": 30,
   "metadata": {},
   "outputs": [
    {
     "data": {
      "text/plain": [
       "(2364,)"
      ]
     },
     "execution_count": 30,
     "metadata": {},
     "output_type": "execute_result"
    }
   ],
   "source": [
    "y.shape"
   ]
  },
  {
   "cell_type": "code",
   "execution_count": 31,
   "metadata": {},
   "outputs": [
    {
     "data": {
      "text/plain": [
       "array([1, 1, 1, ..., 1, 1, 0])"
      ]
     },
     "execution_count": 31,
     "metadata": {},
     "output_type": "execute_result"
    }
   ],
   "source": [
    "y"
   ]
  },
  {
   "cell_type": "markdown",
   "metadata": {},
   "source": [
    "### Split dataset to training/validation/test datasets"
   ]
  },
  {
   "cell_type": "code",
   "execution_count": 32,
   "metadata": {},
   "outputs": [],
   "source": [
    "TRAIN_SPLIT, VAL_SPLIT, TEST_SPLIT = 0.7, 0.2, 0.1\n",
    "\n",
    "# Take the last portion to be the test dataset\n",
    "test_split_index = -round(len(x) * TEST_SPLIT)\n",
    "x_other, x_test = np.split(x, [test_split_index])\n",
    "y_other, y_test = np.split(y, [test_split_index])\n",
    "\n",
    "# Shuffle the remaining portion and split into training and validation datasets\n",
    "train_split_index = round(len(x) * TRAIN_SPLIT)\n",
    "indexes = np.arange(len(x_other))\n",
    "np.random.shuffle(indexes)\n",
    "train_indexes, val_indexes = np.split(indexes, [train_split_index])\n",
    "x_train, x_val = x_other[train_indexes], x_other[val_indexes]\n",
    "y_train, y_val = y_other[train_indexes], y_other[val_indexes]"
   ]
  },
  {
   "cell_type": "code",
   "execution_count": 33,
   "metadata": {},
   "outputs": [
    {
     "data": {
      "text/html": [
       "<div>\n",
       "<style scoped>\n",
       "    .dataframe tbody tr th:only-of-type {\n",
       "        vertical-align: middle;\n",
       "    }\n",
       "\n",
       "    .dataframe tbody tr th {\n",
       "        vertical-align: top;\n",
       "    }\n",
       "\n",
       "    .dataframe thead th {\n",
       "        text-align: right;\n",
       "    }\n",
       "</style>\n",
       "<table border=\"1\" class=\"dataframe\">\n",
       "  <thead>\n",
       "    <tr style=\"text-align: right;\">\n",
       "      <th></th>\n",
       "      <th>Dataset</th>\n",
       "      <th>Bull</th>\n",
       "      <th>Bear</th>\n",
       "    </tr>\n",
       "  </thead>\n",
       "  <tbody>\n",
       "    <tr>\n",
       "      <th>0</th>\n",
       "      <td>train</td>\n",
       "      <td>827</td>\n",
       "      <td>828</td>\n",
       "    </tr>\n",
       "    <tr>\n",
       "      <th>1</th>\n",
       "      <td>val</td>\n",
       "      <td>237</td>\n",
       "      <td>236</td>\n",
       "    </tr>\n",
       "    <tr>\n",
       "      <th>2</th>\n",
       "      <td>test</td>\n",
       "      <td>107</td>\n",
       "      <td>129</td>\n",
       "    </tr>\n",
       "  </tbody>\n",
       "</table>\n",
       "</div>"
      ],
      "text/plain": [
       "  Dataset  Bull  Bear\n",
       "0   train   827   828\n",
       "1     val   237   236\n",
       "2    test   107   129"
      ]
     },
     "execution_count": 33,
     "metadata": {},
     "output_type": "execute_result"
    }
   ],
   "source": [
    "# Show label distribution\n",
    "label_distribution = pd.DataFrame([{'Dataset': 'train',\n",
    "                                    'Bull': np.count_nonzero(y_train == LABEL_BULL),\n",
    "                                    'Bear': np.count_nonzero(y_train == LABEL_BEAR)},\n",
    "                                   {'Dataset': 'val',\n",
    "                                    'Bull': np.count_nonzero(y_val == LABEL_BULL),\n",
    "                                    'Bear': np.count_nonzero(y_val == LABEL_BEAR)},\n",
    "                                   {'Dataset': 'test',\n",
    "                                    'Bull': np.count_nonzero(y_test == LABEL_BULL),\n",
    "                                    'Bear': np.count_nonzero(y_test == LABEL_BEAR)}])\n",
    "label_distribution"
   ]
  },
  {
   "cell_type": "code",
   "execution_count": 34,
   "metadata": {},
   "outputs": [
    {
     "data": {
      "text/html": [
       "<div>\n",
       "<style scoped>\n",
       "    .dataframe tbody tr th:only-of-type {\n",
       "        vertical-align: middle;\n",
       "    }\n",
       "\n",
       "    .dataframe tbody tr th {\n",
       "        vertical-align: top;\n",
       "    }\n",
       "\n",
       "    .dataframe thead th {\n",
       "        text-align: right;\n",
       "    }\n",
       "</style>\n",
       "<table border=\"1\" class=\"dataframe\">\n",
       "  <thead>\n",
       "    <tr style=\"text-align: right;\">\n",
       "      <th></th>\n",
       "      <th>Dataset</th>\n",
       "      <th>Bull</th>\n",
       "      <th>Bear</th>\n",
       "    </tr>\n",
       "  </thead>\n",
       "  <tbody>\n",
       "    <tr>\n",
       "      <th>0</th>\n",
       "      <td>test</td>\n",
       "      <td>107</td>\n",
       "      <td>107</td>\n",
       "    </tr>\n",
       "  </tbody>\n",
       "</table>\n",
       "</div>"
      ],
      "text/plain": [
       "  Dataset  Bull  Bear\n",
       "0    test   107   107"
      ]
     },
     "execution_count": 34,
     "metadata": {},
     "output_type": "execute_result"
    }
   ],
   "source": [
    "# Balance labels of test dataset\n",
    "x_test_bull = x_test[y_test == LABEL_BULL]\n",
    "x_test_bear = x_test[y_test == LABEL_BEAR]\n",
    "\n",
    "min_n_labels = min(len(x_test_bull), len(x_test_bear))\n",
    "\n",
    "x_test_bull = x_test_bull[np.random.choice(len(x_test_bull), min_n_labels, replace=False), :]\n",
    "x_test_bear = x_test_bear[np.random.choice(len(x_test_bear), min_n_labels, replace=False), :]\n",
    "x_test = np.vstack([x_test_bull, x_test_bear])\n",
    "\n",
    "y_test = np.array([LABEL_BULL] * min_n_labels + [LABEL_BEAR] * min_n_labels)\n",
    "\n",
    "# Test dataset label distribution\n",
    "pd.DataFrame([{'Dataset': 'test',\n",
    "               'Bull': np.count_nonzero(y_test == LABEL_BULL),\n",
    "               'Bear': np.count_nonzero(y_test == LABEL_BEAR)}])"
   ]
  },
  {
   "cell_type": "code",
   "execution_count": 35,
   "metadata": {},
   "outputs": [],
   "source": [
    "np.savez('datasets.npz', x_train=x_train, y_train=y_train,\n",
    "         x_val=x_val, y_val=y_val, x_test=x_test, y_test=y_test)"
   ]
  },
  {
   "cell_type": "markdown",
   "metadata": {},
   "source": []
  }
 ],
 "metadata": {
  "kernelspec": {
   "display_name": "aistock--dymrmeb-py3.11",
   "language": "python",
   "name": "python3"
  },
  "language_info": {
   "codemirror_mode": {
    "name": "ipython",
    "version": 3
   },
   "file_extension": ".py",
   "mimetype": "text/x-python",
   "name": "python",
   "nbconvert_exporter": "python",
   "pygments_lexer": "ipython3",
   "version": "3.11.7"
  }
 },
 "nbformat": 4,
 "nbformat_minor": 2
}
