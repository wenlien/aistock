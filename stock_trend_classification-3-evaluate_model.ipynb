{
 "cells": [
  {
   "cell_type": "markdown",
   "metadata": {},
   "source": [
    "# Stock trend classification (3/3): evaluate model\n",
    "\n",
    "Ref:\n",
    "https://www.youtube.com/watch?v=KqBuSvEGiZA"
   ]
  },
  {
   "cell_type": "markdown",
   "metadata": {},
   "source": [
    "### Install libraries"
   ]
  },
  {
   "cell_type": "code",
   "execution_count": 1,
   "metadata": {},
   "outputs": [
    {
     "name": "stdout",
     "output_type": "stream",
     "text": [
      "Requirement already satisfied: seaborn in /Users/weilh/Library/Caches/pypoetry/virtualenvs/aistock--dymrmeb-py3.11/lib/python3.11/site-packages (0.13.2)\n",
      "Requirement already satisfied: numpy!=1.24.0,>=1.20 in /Users/weilh/Library/Caches/pypoetry/virtualenvs/aistock--dymrmeb-py3.11/lib/python3.11/site-packages (from seaborn) (1.26.4)\n",
      "Requirement already satisfied: pandas>=1.2 in /Users/weilh/Library/Caches/pypoetry/virtualenvs/aistock--dymrmeb-py3.11/lib/python3.11/site-packages (from seaborn) (2.2.2)\n",
      "Requirement already satisfied: matplotlib!=3.6.1,>=3.4 in /Users/weilh/Library/Caches/pypoetry/virtualenvs/aistock--dymrmeb-py3.11/lib/python3.11/site-packages (from seaborn) (3.8.4)\n",
      "Requirement already satisfied: contourpy>=1.0.1 in /Users/weilh/Library/Caches/pypoetry/virtualenvs/aistock--dymrmeb-py3.11/lib/python3.11/site-packages (from matplotlib!=3.6.1,>=3.4->seaborn) (1.2.1)\n",
      "Requirement already satisfied: cycler>=0.10 in /Users/weilh/Library/Caches/pypoetry/virtualenvs/aistock--dymrmeb-py3.11/lib/python3.11/site-packages (from matplotlib!=3.6.1,>=3.4->seaborn) (0.12.1)\n",
      "Requirement already satisfied: fonttools>=4.22.0 in /Users/weilh/Library/Caches/pypoetry/virtualenvs/aistock--dymrmeb-py3.11/lib/python3.11/site-packages (from matplotlib!=3.6.1,>=3.4->seaborn) (4.51.0)\n",
      "Requirement already satisfied: kiwisolver>=1.3.1 in /Users/weilh/Library/Caches/pypoetry/virtualenvs/aistock--dymrmeb-py3.11/lib/python3.11/site-packages (from matplotlib!=3.6.1,>=3.4->seaborn) (1.4.5)\n",
      "Requirement already satisfied: packaging>=20.0 in /Users/weilh/Library/Caches/pypoetry/virtualenvs/aistock--dymrmeb-py3.11/lib/python3.11/site-packages (from matplotlib!=3.6.1,>=3.4->seaborn) (24.0)\n",
      "Requirement already satisfied: pillow>=8 in /Users/weilh/Library/Caches/pypoetry/virtualenvs/aistock--dymrmeb-py3.11/lib/python3.11/site-packages (from matplotlib!=3.6.1,>=3.4->seaborn) (10.3.0)\n",
      "Requirement already satisfied: pyparsing>=2.3.1 in /Users/weilh/Library/Caches/pypoetry/virtualenvs/aistock--dymrmeb-py3.11/lib/python3.11/site-packages (from matplotlib!=3.6.1,>=3.4->seaborn) (3.1.2)\n",
      "Requirement already satisfied: python-dateutil>=2.7 in /Users/weilh/Library/Caches/pypoetry/virtualenvs/aistock--dymrmeb-py3.11/lib/python3.11/site-packages (from matplotlib!=3.6.1,>=3.4->seaborn) (2.9.0.post0)\n",
      "Requirement already satisfied: pytz>=2020.1 in /Users/weilh/Library/Caches/pypoetry/virtualenvs/aistock--dymrmeb-py3.11/lib/python3.11/site-packages (from pandas>=1.2->seaborn) (2024.1)\n",
      "Requirement already satisfied: tzdata>=2022.7 in /Users/weilh/Library/Caches/pypoetry/virtualenvs/aistock--dymrmeb-py3.11/lib/python3.11/site-packages (from pandas>=1.2->seaborn) (2024.1)\n",
      "Requirement already satisfied: six>=1.5 in /Users/weilh/Library/Caches/pypoetry/virtualenvs/aistock--dymrmeb-py3.11/lib/python3.11/site-packages (from python-dateutil>=2.7->matplotlib!=3.6.1,>=3.4->seaborn) (1.16.0)\n"
     ]
    }
   ],
   "source": [
    "!pip install seaborn"
   ]
  },
  {
   "cell_type": "markdown",
   "metadata": {},
   "source": [
    "### Load datasets"
   ]
  },
  {
   "cell_type": "code",
   "execution_count": 2,
   "metadata": {},
   "outputs": [
    {
     "data": {
      "text/html": [
       "<div>\n",
       "<style scoped>\n",
       "    .dataframe tbody tr th:only-of-type {\n",
       "        vertical-align: middle;\n",
       "    }\n",
       "\n",
       "    .dataframe tbody tr th {\n",
       "        vertical-align: top;\n",
       "    }\n",
       "\n",
       "    .dataframe thead th {\n",
       "        text-align: right;\n",
       "    }\n",
       "</style>\n",
       "<table border=\"1\" class=\"dataframe\">\n",
       "  <thead>\n",
       "    <tr style=\"text-align: right;\">\n",
       "      <th></th>\n",
       "      <th>Dataset</th>\n",
       "      <th>Bull</th>\n",
       "      <th>Bear</th>\n",
       "    </tr>\n",
       "  </thead>\n",
       "  <tbody>\n",
       "    <tr>\n",
       "      <th>0</th>\n",
       "      <td>train</td>\n",
       "      <td>827</td>\n",
       "      <td>828</td>\n",
       "    </tr>\n",
       "    <tr>\n",
       "      <th>1</th>\n",
       "      <td>val</td>\n",
       "      <td>237</td>\n",
       "      <td>236</td>\n",
       "    </tr>\n",
       "    <tr>\n",
       "      <th>2</th>\n",
       "      <td>test</td>\n",
       "      <td>107</td>\n",
       "      <td>107</td>\n",
       "    </tr>\n",
       "  </tbody>\n",
       "</table>\n",
       "</div>"
      ],
      "text/plain": [
       "  Dataset  Bull  Bear\n",
       "0   train   827   828\n",
       "1     val   237   236\n",
       "2    test   107   107"
      ]
     },
     "execution_count": 2,
     "metadata": {},
     "output_type": "execute_result"
    }
   ],
   "source": [
    "import numpy as np\n",
    "import pandas as pd\n",
    "\n",
    "CLASSES = ['Bull', 'Bear']\n",
    "LABEL_BULL = CLASSES.index('Bull')\n",
    "LABEL_BEAR = CLASSES.index('Bear')\n",
    "\n",
    "datasets = np.load('datasets.npz')\n",
    "x_train, y_train = datasets['x_train'], datasets['y_train']\n",
    "x_val, y_val = datasets['x_val'], datasets['y_val']\n",
    "x_test, y_test = datasets['x_test'], datasets['y_test']\n",
    "\n",
    "# Label distribution\n",
    "label_distribution = pd.DataFrame([{'Dataset': 'train',\n",
    "                                    'Bull': np.count_nonzero(y_train == LABEL_BULL),\n",
    "                                    'Bear': np.count_nonzero(y_train == LABEL_BEAR)},\n",
    "                                   {'Dataset': 'val',\n",
    "                                    'Bull': np.count_nonzero(y_val == LABEL_BULL),\n",
    "                                    'Bear': np.count_nonzero(y_val == LABEL_BEAR)},\n",
    "                                   {'Dataset': 'test',\n",
    "                                    'Bull': np.count_nonzero(y_test == LABEL_BULL),\n",
    "                                    'Bear': np.count_nonzero(y_test == LABEL_BEAR)}])\n",
    "label_distribution"
   ]
  },
  {
   "cell_type": "markdown",
   "metadata": {},
   "source": [
    "### Load model"
   ]
  },
  {
   "cell_type": "code",
   "execution_count": 3,
   "metadata": {},
   "outputs": [],
   "source": [
    "from tensorflow import keras\n",
    "from tensorflow.keras.utils import to_categorical\n",
    "\n",
    "model = keras.models.load_model('best_model.keras')"
   ]
  },
  {
   "cell_type": "markdown",
   "metadata": {},
   "source": [
    "### Evaluate model"
   ]
  },
  {
   "cell_type": "code",
   "execution_count": 4,
   "metadata": {},
   "outputs": [
    {
     "name": "stdout",
     "output_type": "stream",
     "text": [
      "\u001b[1m7/7\u001b[0m \u001b[32m━━━━━━━━━━━━━━━━━━━━\u001b[0m\u001b[37m\u001b[0m \u001b[1m0s\u001b[0m 10ms/step - accuracy: 0.6896 - loss: 0.6605\n"
     ]
    },
    {
     "data": {
      "text/plain": [
       "[0.6994628310203552, 0.4813084006309509]"
      ]
     },
     "execution_count": 4,
     "metadata": {},
     "output_type": "execute_result"
    }
   ],
   "source": [
    "model.evaluate(x_test, to_categorical(y_test))"
   ]
  },
  {
   "cell_type": "code",
   "execution_count": 5,
   "metadata": {},
   "outputs": [
    {
     "name": "stdout",
     "output_type": "stream",
     "text": [
      "\u001b[1m7/7\u001b[0m \u001b[32m━━━━━━━━━━━━━━━━━━━━\u001b[0m\u001b[37m\u001b[0m \u001b[1m0s\u001b[0m 37ms/step\n"
     ]
    }
   ],
   "source": [
    "# Draw confusion matrix\n",
    "from tensorflow.math import argmax, confusion_matrix\n",
    "\n",
    "y_pred_prob = model.predict(x_test)\n",
    "y_pred = argmax(y_pred_prob, axis=-1)\n",
    "cm = confusion_matrix(y_test, y_pred, num_classes=len(CLASSES)).numpy()"
   ]
  },
  {
   "cell_type": "code",
   "execution_count": 6,
   "metadata": {},
   "outputs": [
    {
     "data": {
      "text/plain": [
       "array([[91, 16],\n",
       "       [95, 12]], dtype=int32)"
      ]
     },
     "execution_count": 6,
     "metadata": {},
     "output_type": "execute_result"
    }
   ],
   "source": [
    "cm"
   ]
  },
  {
   "cell_type": "code",
   "execution_count": 7,
   "metadata": {},
   "outputs": [
    {
     "data": {
      "text/plain": [
       "Text(33.22222222222222, 0.5, 'Label')"
      ]
     },
     "execution_count": 7,
     "metadata": {},
     "output_type": "execute_result"
    },
    {
     "data": {
      "image/png": "[encoded data removed]",
      "text/plain": [
       "<Figure size 500x400 with 2 Axes>"
      ]
     },
     "metadata": {},
     "output_type": "display_data"
    }
   ],
   "source": [
    "import matplotlib.pyplot as plt\n",
    "import seaborn as sns\n",
    "\n",
    "plt.figure(figsize=(5, 4))\n",
    "sns.heatmap(cm, xticklabels=CLASSES, yticklabels=CLASSES,\n",
    "            annot=True, fmt='g')\n",
    "plt.xlabel('Prediction')\n",
    "plt.ylabel('Label')"
   ]
  },
  {
   "cell_type": "code",
   "execution_count": 8,
   "metadata": {},
   "outputs": [
    {
     "data": {
      "text/html": [
       "<div>\n",
       "<style scoped>\n",
       "    .dataframe tbody tr th:only-of-type {\n",
       "        vertical-align: middle;\n",
       "    }\n",
       "\n",
       "    .dataframe tbody tr th {\n",
       "        vertical-align: top;\n",
       "    }\n",
       "\n",
       "    .dataframe thead th {\n",
       "        text-align: right;\n",
       "    }\n",
       "</style>\n",
       "<table border=\"1\" class=\"dataframe\">\n",
       "  <thead>\n",
       "    <tr style=\"text-align: right;\">\n",
       "      <th></th>\n",
       "      <th>Prediction</th>\n",
       "      <th>Accuracy</th>\n",
       "    </tr>\n",
       "  </thead>\n",
       "  <tbody>\n",
       "    <tr>\n",
       "      <th>0</th>\n",
       "      <td>Bull</td>\n",
       "      <td>0.489247</td>\n",
       "    </tr>\n",
       "    <tr>\n",
       "      <th>1</th>\n",
       "      <td>Bear</td>\n",
       "      <td>0.428571</td>\n",
       "    </tr>\n",
       "    <tr>\n",
       "      <th>2</th>\n",
       "      <td>Total</td>\n",
       "      <td>0.481308</td>\n",
       "    </tr>\n",
       "  </tbody>\n",
       "</table>\n",
       "</div>"
      ],
      "text/plain": [
       "  Prediction  Accuracy\n",
       "0       Bull  0.489247\n",
       "1       Bear  0.428571\n",
       "2      Total  0.481308"
      ]
     },
     "execution_count": 8,
     "metadata": {},
     "output_type": "execute_result"
    }
   ],
   "source": [
    "n_bull_pred = cm[LABEL_BULL, LABEL_BULL] + cm[LABEL_BEAR, LABEL_BULL]\n",
    "n_bull_true_pos = cm[LABEL_BULL, LABEL_BULL]\n",
    "bull_accuracy = n_bull_true_pos / n_bull_pred if n_bull_pred > 0 else 0\n",
    "\n",
    "n_bear_pred= cm[LABEL_BULL, LABEL_BEAR] + cm[LABEL_BEAR, LABEL_BEAR]\n",
    "n_bear_true_pos = cm[LABEL_BEAR, LABEL_BEAR]\n",
    "bear_accuracy = n_bear_true_pos / n_bear_pred if n_bear_pred > 0 else 0\n",
    "\n",
    "n_total_pred = n_bull_pred + n_bear_pred\n",
    "n_total_true_pos = n_bull_true_pos + n_bear_true_pos\n",
    "total_accuracy = n_total_true_pos / n_total_pred if n_total_pred > 0 else 0\n",
    "\n",
    "pd.DataFrame([{'Prediction': 'Bull', 'Accuracy': bull_accuracy},\n",
    "              {'Prediction': 'Bear', 'Accuracy': bear_accuracy},\n",
    "              {'Prediction': 'Total', 'Accuracy': total_accuracy},\n",
    "              ])"
   ]
  }
 ],
 "metadata": {
  "kernelspec": {
   "display_name": "aistock--dymrmeb-py3.11",
   "language": "python",
   "name": "python3"
  },
  "language_info": {
   "codemirror_mode": {
    "name": "ipython",
    "version": 3
   },
   "file_extension": ".py",
   "mimetype": "text/x-python",
   "name": "python",
   "nbconvert_exporter": "python",
   "pygments_lexer": "ipython3",
   "version": "3.11.7"
  }
 },
 "nbformat": 4,
 "nbformat_minor": 2
}
